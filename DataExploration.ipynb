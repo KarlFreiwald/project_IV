{
 "cells": [
  {
   "cell_type": "markdown",
   "source": [
    "# Exploring Data Set\n",
    "\n",
    "Dataset is retrieved from:\n",
    "https://www.kaggle.com/datasets/uom190346a/global-climate-events-and-economic-impact-dataset?resource=download"
   ],
   "metadata": {
    "collapsed": false
   }
  },
  {
   "cell_type": "code",
   "execution_count": 6,
   "outputs": [
    {
     "name": "stdout",
     "output_type": "stream",
     "text": [
      "Requirement already satisfied: pandas in c:\\users\\kfrei\\appdata\\local\\pypoetry\\cache\\virtualenvs\\project-iv-ldwg0gjd-py3.10\\lib\\site-packages (2.3.3)\n",
      "Requirement already satisfied: numpy>=1.22.4 in c:\\users\\kfrei\\appdata\\local\\pypoetry\\cache\\virtualenvs\\project-iv-ldwg0gjd-py3.10\\lib\\site-packages (from pandas) (2.2.6)\n",
      "Requirement already satisfied: python-dateutil>=2.8.2 in c:\\users\\kfrei\\appdata\\local\\pypoetry\\cache\\virtualenvs\\project-iv-ldwg0gjd-py3.10\\lib\\site-packages (from pandas) (2.9.0.post0)\n",
      "Requirement already satisfied: pytz>=2020.1 in c:\\users\\kfrei\\appdata\\local\\pypoetry\\cache\\virtualenvs\\project-iv-ldwg0gjd-py3.10\\lib\\site-packages (from pandas) (2025.2)\n",
      "Requirement already satisfied: tzdata>=2022.7 in c:\\users\\kfrei\\appdata\\local\\pypoetry\\cache\\virtualenvs\\project-iv-ldwg0gjd-py3.10\\lib\\site-packages (from pandas) (2025.2)\n",
      "Requirement already satisfied: six>=1.5 in c:\\users\\kfrei\\appdata\\local\\pypoetry\\cache\\virtualenvs\\project-iv-ldwg0gjd-py3.10\\lib\\site-packages (from python-dateutil>=2.8.2->pandas) (1.17.0)\n",
      "Note: you may need to restart the kernel to use updated packages.\n"
     ]
    }
   ],
   "source": [
    "%pip install pandas"
   ],
   "metadata": {
    "collapsed": false
   }
  },
  {
   "cell_type": "code",
   "execution_count": 7,
   "outputs": [],
   "source": [
    "import pandas as pd\n",
    "\n",
    "df = pd.read_csv(\"data.csv\")"
   ],
   "metadata": {
    "collapsed": false
   }
  },
  {
   "cell_type": "code",
   "execution_count": 11,
   "outputs": [
    {
     "name": "stdout",
     "output_type": "stream",
     "text": [
      "Rows:\t3000\n"
     ]
    }
   ],
   "source": [
    "print(f\"Rows:\\t{len(df)}\")"
   ],
   "metadata": {
    "collapsed": false
   }
  },
  {
   "cell_type": "code",
   "execution_count": 15,
   "outputs": [
    {
     "name": "stdout",
     "output_type": "stream",
     "text": [
      "Number of columns:\t20\n",
      "Columns:\t['event_id', 'date', 'year', 'month', 'country', 'event_type', 'severity', 'duration_days', 'affected_population', 'deaths', 'injuries', 'economic_impact_million_usd', 'infrastructure_damage_score', 'response_time_hours', 'international_aid_million_usd', 'latitude', 'longitude', 'total_casualties', 'impact_per_capita', 'aid_percentage']\n"
     ]
    }
   ],
   "source": [
    "print(f\"Number of columns:\\t{len(df.columns)}\")\n",
    "print(f\"Columns:\\t{list(df.columns)}\")"
   ],
   "metadata": {
    "collapsed": false
   }
  },
  {
   "cell_type": "code",
   "execution_count": 16,
   "outputs": [
    {
     "name": "stdout",
     "output_type": "stream",
     "text": [
      "year                               2022.401667\n",
      "month                                 6.260333\n",
      "severity                              3.786333\n",
      "duration_days                         8.783000\n",
      "affected_population              868550.495333\n",
      "deaths                                4.615000\n",
      "injuries                             39.228333\n",
      "economic_impact_million_usd           1.944367\n",
      "infrastructure_damage_score          15.160733\n",
      "response_time_hours                  11.107667\n",
      "international_aid_million_usd         0.057020\n",
      "latitude                             -0.053334\n",
      "longitude                            -0.133522\n",
      "total_casualties                     43.843333\n",
      "impact_per_capita                     3.613917\n",
      "aid_percentage                        0.009267\n",
      "Name: mean, dtype: float64\n"
     ]
    }
   ],
   "source": [
    "# Average per numeric column\n",
    "print(df.describe().loc[\"mean\"])"
   ],
   "metadata": {
    "collapsed": false
   }
  },
  {
   "cell_type": "code",
   "execution_count": null,
   "outputs": [],
   "source": [],
   "metadata": {
    "collapsed": false
   }
  }
 ],
 "metadata": {
  "kernelspec": {
   "display_name": "Python 3",
   "language": "python",
   "name": "python3"
  },
  "language_info": {
   "codemirror_mode": {
    "name": "ipython",
    "version": 2
   },
   "file_extension": ".py",
   "mimetype": "text/x-python",
   "name": "python",
   "nbconvert_exporter": "python",
   "pygments_lexer": "ipython2",
   "version": "2.7.6"
  }
 },
 "nbformat": 4,
 "nbformat_minor": 0
}
